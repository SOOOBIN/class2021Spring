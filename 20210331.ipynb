{
  "nbformat": 4,
  "nbformat_minor": 0,
  "metadata": {
    "colab": {
      "name": "Untitled1.ipynb",
      "provenance": [],
      "authorship_tag": "ABX9TyNQi5CukmpMS3nFtXNl0by1",
      "include_colab_link": true
    },
    "kernelspec": {
      "name": "python3",
      "display_name": "Python 3"
    },
    "language_info": {
      "name": "python"
    }
  },
  "cells": [
    {
      "cell_type": "markdown",
      "metadata": {
        "id": "view-in-github",
        "colab_type": "text"
      },
      "source": [
        "<a href=\"https://colab.research.google.com/github/SOOOBIN/class2021Spring/blob/main/20210331.ipynb\" target=\"_parent\"><img src=\"https://colab.research.google.com/assets/colab-badge.svg\" alt=\"Open In Colab\"/></a>"
      ]
    },
    {
      "cell_type": "code",
      "metadata": {
        "id": "I8Ukd2Ln5Y5B"
      },
      "source": [
        "a\n",
        "pitch 75hz 500hz\n",
        "formant 1053hz 1021hz\n",
        "intensity 51.58dB 100dB\n",
        "duration 3.030204 seconds\n",
        "\n",
        "e\n",
        "pitch 75hz 500hz\n",
        "formant 1883hz 862hz\n",
        "intensity 50db 100db\n",
        "duration 4.427755 seconds\n",
        "\n"
      ],
      "execution_count": null,
      "outputs": []
    }
  ]
}