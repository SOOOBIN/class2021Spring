{
  "nbformat": 4,
  "nbformat_minor": 0,
  "metadata": {
    "colab": {
      "name": "20210317.ipynb",
      "provenance": [],
      "authorship_tag": "ABX9TyNpPyvp+/XPU+kBpHYEeU4J",
      "include_colab_link": true
    },
    "kernelspec": {
      "name": "python3",
      "display_name": "Python 3"
    }
  },
  "cells": [
    {
      "cell_type": "markdown",
      "metadata": {
        "id": "view-in-github",
        "colab_type": "text"
      },
      "source": [
        "<a href=\"https://colab.research.google.com/github/SOOOBIN/class2021Spring/blob/main/20210317.ipynb\" target=\"_parent\"><img src=\"https://colab.research.google.com/assets/colab-badge.svg\" alt=\"Open In Colab\"/></a>"
      ]
    },
    {
      "cell_type": "code",
      "metadata": {
        "colab": {
          "base_uri": "https://localhost:8080/"
        },
        "id": "VDVtbOokvioo",
        "outputId": "1823b113-1b87-4cf5-8f4a-75ddbccfc04a"
      },
      "source": [
        " a = [1,2,3,4,5]\r\n",
        " b = [4,5,6,7]\r\n",
        " for i in a:\r\n",
        "   for j in b:\r\n",
        "     if j % 2 == 0:\r\n",
        "       print(i*j)"
      ],
      "execution_count": 4,
      "outputs": [
        {
          "output_type": "stream",
          "text": [
            "4\n",
            "6\n",
            "8\n",
            "12\n",
            "12\n",
            "18\n",
            "16\n",
            "24\n",
            "20\n",
            "30\n"
          ],
          "name": "stdout"
        }
      ]
    },
    {
      "cell_type": "code",
      "metadata": {
        "colab": {
          "base_uri": "https://localhost:8080/"
        },
        "id": "z2GnJ1LtwH7K",
        "outputId": "84010b62-f461-43ba-caba-8bd91905f9c5"
      },
      "source": [
        "a = ['apple','banana','kiwi','orange']\r\n",
        "b = [i for i in a if len(i) == 6]\r\n",
        "b"
      ],
      "execution_count": 5,
      "outputs": [
        {
          "output_type": "execute_result",
          "data": {
            "text/plain": [
              "['banana', 'orange']"
            ]
          },
          "metadata": {
            "tags": []
          },
          "execution_count": 5
        }
      ]
    }
  ]
}