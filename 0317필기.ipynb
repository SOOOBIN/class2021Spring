{
  "nbformat": 4,
  "nbformat_minor": 0,
  "metadata": {
    "colab": {
      "name": "0317필기.ipynb",
      "provenance": [],
      "authorship_tag": "ABX9TyN09wwa3g6Ol2iL1fj/jPvm",
      "include_colab_link": true
    },
    "kernelspec": {
      "name": "python3",
      "display_name": "Python 3"
    }
  },
  "cells": [
    {
      "cell_type": "markdown",
      "metadata": {
        "id": "view-in-github",
        "colab_type": "text"
      },
      "source": [
        "<a href=\"https://colab.research.google.com/github/SOOOBIN/class2021Spring/blob/main/0317%ED%95%84%EA%B8%B0.ipynb\" target=\"_parent\"><img src=\"https://colab.research.google.com/assets/colab-badge.svg\" alt=\"Open In Colab\"/></a>"
      ]
    },
    {
      "cell_type": "code",
      "metadata": {
        "id": "IKDJwajZqBmF"
      },
      "source": [
        ""
      ],
      "execution_count": null,
      "outputs": []
    },
    {
      "cell_type": "code",
      "metadata": {
        "colab": {
          "base_uri": "https://localhost:8080/"
        },
        "id": "v272xOAJqCqE",
        "outputId": "b9529d23-8c84-4f65-9ede-eb51e4d6fac1"
      },
      "source": [
        "a = 0\r\n",
        "if a == 0:\r\n",
        "  print(a)\r\n",
        "else: \r\n",
        "  print (a+1)\r\n",
        "  \r\n",
        "  a=0이다, if a가 0이라면 a를 출력하라 -> 0이 나온다"
      ],
      "execution_count": null,
      "outputs": [
        {
          "output_type": "stream",
          "text": [
            "0\n"
          ],
          "name": "stdout"
        }
      ]
    },
    {
      "cell_type": "code",
      "metadata": {
        "id": "_bymkWXfqa_r"
      },
      "source": [
        " for i in range(1,3) :\r\n",
        "   for j in range(3,5) :\r\n",
        "     if j >=4 :\r\n",
        "       print(i*j)\r\n",
        "\r\n",
        "i는  \r\n"
      ],
      "execution_count": null,
      "outputs": []
    },
    {
      "cell_type": "code",
      "metadata": {
        "colab": {
          "base_uri": "https://localhost:8080/"
        },
        "id": "oRMG8duXt4Pw",
        "outputId": "96072e6b-fda0-4e6e-ee65-871f29f5a6d9"
      },
      "source": [
        "a = [1,2,3,4]\r\n",
        "b = [i for i in a if i>=2]\r\n",
        "b\r\n",
        "\r\n",
        "i for i in [1,2,3,4]에서 i>=2인 경우의 값이 b에 해당한다"
      ],
      "execution_count": null,
      "outputs": [
        {
          "output_type": "execute_result",
          "data": {
            "text/plain": [
              "[2, 3, 4]"
            ]
          },
          "metadata": {
            "tags": []
          },
          "execution_count": 3
        }
      ]
    },
    {
      "cell_type": "code",
      "metadata": {
        "colab": {
          "base_uri": "https://localhost:8080/"
        },
        "id": "B3lF1kXfuTQf",
        "outputId": "882f3938-1aeb-460b-cc81-e1cfc5792786"
      },
      "source": [
        "a = ['red', 'green', 'blue', 'purple']\r\n",
        "b = [i for i in a if len(i) >=4]\r\n",
        "b\r\n",
        "\r\n",
        "i for i in [red, green, blue, purple]에서 i의 길이가 4이상인 경우의 값이 b에 해당한다."
      ],
      "execution_count": null,
      "outputs": [
        {
          "output_type": "execute_result",
          "data": {
            "text/plain": [
              "['green', 'blue', 'purple']"
            ]
          },
          "metadata": {
            "tags": []
          },
          "execution_count": 5
        }
      ]
    }
  ]
}